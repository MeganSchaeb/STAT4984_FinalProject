{
 "cells": [
  {
   "cell_type": "markdown",
   "id": "0eabb1af",
   "metadata": {},
   "source": [
    "# STAT 4984 Final Project: Snake Species Classification\n",
    "## Split data into training and testing\n",
    "\n",
    "Megan Schaeb  \n",
    "4/17/2023"
   ]
  },
  {
   "cell_type": "markdown",
   "id": "7c42cb0a",
   "metadata": {},
   "source": [
    "The snake images from Kaggle are stored in the dataset folder in folders by species. To split these images into training, testing, and validation sets, use the split-folders package: https://pypi.org/project/split-folders/. "
   ]
  },
  {
   "cell_type": "code",
   "execution_count": 1,
   "id": "846ab5df",
   "metadata": {},
   "outputs": [],
   "source": [
    "import splitfolders"
   ]
  },
  {
   "cell_type": "code",
   "execution_count": 2,
   "id": "5ba255f4",
   "metadata": {},
   "outputs": [
    {
     "name": "stderr",
     "output_type": "stream",
     "text": [
      "Copying files: 13185 files [00:57, 228.82 files/s]\n"
     ]
    }
   ],
   "source": [
    "# Split folder of folders of images into training and testing sets\n",
    "splitfolders.ratio(\".\\\\dataset\", output=\"output\",seed=1337, ratio=(.8, .2), group_prefix=None, move=False)"
   ]
  }
 ],
 "metadata": {
  "kernelspec": {
   "display_name": "Python 3",
   "language": "python",
   "name": "python3"
  },
  "language_info": {
   "codemirror_mode": {
    "name": "ipython",
    "version": 3
   },
   "file_extension": ".py",
   "mimetype": "text/x-python",
   "name": "python",
   "nbconvert_exporter": "python",
   "pygments_lexer": "ipython3",
   "version": "3.8.8"
  }
 },
 "nbformat": 4,
 "nbformat_minor": 5
}
